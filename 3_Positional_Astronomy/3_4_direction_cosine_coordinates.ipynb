{
 "cells": [
  {
   "cell_type": "markdown",
   "metadata": {
    "deletable": true,
    "editable": true
   },
   "source": [
    "***\n",
    "\n",
    "* [Outline](../0_Introduction/0_introduction.ipynb)\n",
    "* [Glossary](../0_Introduction/1_glossary.ipynb)\n",
    "* [Positional Astronomy](3_0_introduction.ipynb)\n",
    "    * Previous: [Horizontal Coordinates](3_3_horizontal_coordinates.ipynb)\n",
    "    * Next: [Further Reading](3_x_further_reading_and_references.ipynb) \n",
    "\n",
    "***"
   ]
  },
  {
   "cell_type": "markdown",
   "metadata": {
    "deletable": true,
    "editable": true
   },
   "source": [
    "Import standard modules:"
   ]
  },
  {
   "cell_type": "code",
   "execution_count": 71,
   "metadata": {
    "collapsed": false,
    "deletable": true,
    "editable": true
   },
   "outputs": [
    {
     "data": {
      "text/html": [
       "<style>\n",
       "\n",
       "p.prerequisites {\n",
       "    border:5px;\n",
       "    border-style:none;\n",
       "    background-color:#F0F0F0;\n",
       "    box-shadow: 5px 5px 2px #888888;\n",
       "    border-color:#FF0000;\n",
       "    padding: 1em;\n",
       "    }\n",
       "\n",
       "p.conclusion {\n",
       "    border:5px;\n",
       "    border-style:none;\n",
       "    background-color:#c8ebca;\n",
       "    box-shadow: 5px 5px 2px #888888;\n",
       "    border-color:#c8ebca;\n",
       "    padding: 1em;\n",
       "    }\n",
       "\n",
       "div.warn {    \n",
       "    background-color: #fcf2f2;\n",
       "    border-color: #dFb5b4;\n",
       "    border-left: 5px solid #dfb5b4;\n",
       "    padding: 0.5em;\n",
       "    }\n",
       "\n",
       "div.advice {    \n",
       "    background-color: #ecf8ed;\n",
       "    border-color: #a2dda5;\n",
       "    border-left: 5px solid #a2dda5;\n",
       "    padding: 0.5em;\n",
       "    }\n",
       "\n",
       "</style>\n",
       "\n"
      ],
      "text/plain": [
       "<IPython.core.display.HTML object>"
      ]
     },
     "execution_count": 71,
     "metadata": {},
     "output_type": "execute_result"
    }
   ],
   "source": [
    "import numpy as np\n",
    "import matplotlib.pyplot as plt\n",
    "%matplotlib inline\n",
    "from IPython.display import HTML \n",
    "HTML('../style/course.css') #apply general CSS"
   ]
  },
  {
   "cell_type": "markdown",
   "metadata": {
    "deletable": true,
    "editable": true
   },
   "source": [
    "Import section specific modules:"
   ]
  },
  {
   "cell_type": "code",
   "execution_count": 72,
   "metadata": {
    "collapsed": false,
    "deletable": true,
    "editable": true
   },
   "outputs": [
    {
     "data": {
      "text/html": [
       "<script>\n",
       "    code_show=false; \n",
       "    function code_toggle() {\n",
       "        if (code_show){\n",
       "            $('div.input').hide();\n",
       "        } else {\n",
       "            $('div.input').show();\n",
       "        }\n",
       "        code_show = !code_show\n",
       "    } \n",
       "    $( document ).ready(code_toggle);\n",
       "</script>\n",
       "\n",
       "The raw code for this notebook is by default hidden for easier reading. To toggle on/off the raw code, click <a href=\"javascript:code_toggle()\">here</a>.\n",
       "\n"
      ],
      "text/plain": [
       "<IPython.core.display.HTML object>"
      ]
     },
     "execution_count": 72,
     "metadata": {},
     "output_type": "execute_result"
    }
   ],
   "source": [
    "from IPython.display import HTML\n",
    "HTML('../style/code_toggle.html')"
   ]
  },
  {
   "cell_type": "markdown",
   "metadata": {
    "deletable": true,
    "editable": true
   },
   "source": [
    "## Direction Cosine Coordinates"
   ]
  },
  {
   "cell_type": "markdown",
   "metadata": {
    "deletable": true,
    "editable": true
   },
   "source": [
    "There is another useful astronomical coordinate system that we ought to introduce at this juncture, namely the *direction cosine coordinate system*. The direction cosine coordinate system is quite powerful and allows us to redefine the fundamental reference point on the celestial sphere, from which we measure all other celestial objects, to an arbitrary location (i.e. we can make local sky-maps around our own chosen reference point; the vernal equinox need not be our fundamental reference point). Usually this arbitrary location is chosen to be the celestial source that we are interested in observing. We generally refer to this arbitrary location as the *field centre* or *phase centre*.\n",
    "\n",
    "<div class=advice>\n",
    "<b>Note:</b> The direction cosine coordinate system is useful for another reason, when we use\n",
    "it to image interferometric data, then it becomes evident that there exists a Fourier relationship between the sky brightness function and the measurements that an interferometer makes (see <a href='../4_Visibility_Space/4_0_introduction.ipynb'>Chapter 4 &#10142;</a>).\n",
    "</div><br>\n",
    "We use three coordinates in the direction cosine coordinate system, namely $l$, $m$ and $n$. The coordinates $l$, $m$ and $n$ are dimensionless direction cosines, i.e."
   ]
  },
  {
   "cell_type": "markdown",
   "metadata": {
    "deletable": true,
    "editable": true
   },
   "source": [
    "\\begin{equation}\n",
    "l = \\cos(\\alpha) = \\frac{a_1}{|\\mathbf{a}|}\\\\\n",
    "\\end{equation}\n",
    "\n",
    "\\begin{equation}\n",
    "m = \\cos(\\beta) = \\frac{a_2}{|\\mathbf{a}|}\\\\\n",
    "\\end{equation}\n",
    "\n",
    "\\begin{equation}\n",
    "n = \\cos(\\gamma) = \\frac{a_3}{|\\mathbf{a}|}\n",
    "\\end{equation}"
   ]
  },
  {
   "cell_type": "markdown",
   "metadata": {
    "deletable": true,
    "editable": true
   },
   "source": [
    "<a id='pos:fig:cosines'></a> <!--\\label{pos:fig:cosines}--><img src='figures/cosine.svg' width=35%>"
   ]
  },
  {
   "cell_type": "markdown",
   "metadata": {
    "deletable": true,
    "editable": true
   },
   "source": [
    "*Figure 3.4.1*: Definition of direction cosines. "
   ]
  },
  {
   "cell_type": "markdown",
   "metadata": {
    "deletable": true,
    "editable": true
   },
   "source": [
    "The quantities $\\alpha$, $\\beta$, $\\gamma$, $a_1$, $a_2$, $a_3$ and $\\mathbf{a}$ are all defined in <a class='pos_fig_cos_dir'></a> <!--\\ref{pos:fig:cos}-->. Moreover, $|\\cdot|$ denotes the magnitude of its operand. The definitions above also imply that $l^2+m^2+n^2 = 1$. When $|\\mathbf{a}|=1$ then we may simply interpret $l$, $m$ and $n$ as   Cartesian coordinates, i.e. we may simply relabel the axes $x$, $y$ and $z$ (in <a class='pos_fig_cos_dir'></a><!--\\ref{pos:fig:cos}-->) to \n",
    "$l$, $m$ and $n$. "
   ]
  },
  {
   "cell_type": "markdown",
   "metadata": {
    "deletable": true,
    "editable": true
   },
   "source": [
    "So the question now arises, how do we use $l$, $m$ and $n$ to uniquely identify a location on the celestial sphere? The direction cosine coordinate system (and the relationship between it and the celestial coordinate sytem) is depicted in <a class='pos_fig_dirconversion_dir'></a><!--\\ref{pos:fig:dirconversion}-->. Note that the $n$-axis points toward the field center (which is denoted by $\\boldsymbol{s}_c$ in <a class='pos_fig_dirconversion_dir'></a><!--\\ref{pos:fig:dirconversion}-->. It should be clear from <a class='pos_fig_dirconversion_dir'></a><!--\\ref{pos:fig:dirconversion}--> that we can use $\\mathbf{s} = (l,m,n)$ to uniquely idnetify any location on the celestial sphere."
   ]
  },
  {
   "cell_type": "markdown",
   "metadata": {
    "deletable": true,
    "editable": true
   },
   "source": [
    "<a id='pos:fig:convert_lmn_ra_dec'></a> <!--\\label{pos:fig:convert_lmn_ra_dec}--><img src='figures/conversion2.svg' width=40%>"
   ]
  },
  {
   "cell_type": "markdown",
   "metadata": {
    "deletable": true,
    "editable": true
   },
   "source": [
    "*Figure 3.4.2*: The source-celestial pole-field center triangle; which enables us to derive the conversion equations between direction cosine and equatorial coordinates. The red plane represents the fundamental plane of the equatorial coordinate system, while the blue plane represents the fundamental plane of the direction cosine coordinate system. We are able to label the orthogonal fundamental axes of the direction cosine coordinate system $l$,$m$ and $n$, since the radius of the celestial sphere is equal to one."
   ]
  },
  {
   "cell_type": "markdown",
   "metadata": {
    "deletable": true,
    "editable": true
   },
   "source": [
    "We use the following equations to convert between the equatorial and direction cosine coordinate systems: "
   ]
  },
  {
   "cell_type": "markdown",
   "metadata": {
    "deletable": true,
    "editable": true
   },
   "source": [
    "<p class=conclusion>\n",
    "  <font size=4><b>Converting between the equatorial and direction cosine coordinates (3.1)</b></font>\n",
    "  <br>\n",
    "  <br>\n",
    "\n",
    "\\begin{equation}\n",
    "l =  \\sin \\theta \\sin \\psi = \\cos \\delta  \\sin \\Delta \\alpha \\nonumber\\\\\n",
    "\\end{equation}\n",
    "\n",
    "\\begin{equation}\n",
    "m = \\sin \\theta \\cos \\psi = \\sin \\delta \\cos \\delta_0 - \\cos \\delta \\sin \\delta_0 \\cos\\Delta \\alpha \\nonumber\\\\\n",
    "\\end{equation}\n",
    "\n",
    "\\begin{equation}\n",
    "\\delta = \\sin^{-1}(m\\cos \\delta_0 + \\sin \\delta_0\\sqrt{1-l^2-m^2})\\nonumber\\\\\n",
    "\\end{equation}\n",
    "\n",
    "\\begin{equation}\n",
    "\\alpha = \\alpha_0 + \\tan^{-1}\\bigg(\\frac{l}{\\cos\\delta_0\\sqrt{1-l^2-m^2}-m\\sin\\delta_0}\\bigg)\\nonumber\n",
    "\\end{equation}\n",
    "\n",
    "</p>\n",
    "**<a id='pos_eq_convertlmnradec'></a><!--\\label{pos:eq:convertlmnradec}-->**"
   ]
  },
  {
   "cell_type": "markdown",
   "metadata": {
    "deletable": true,
    "editable": true
   },
   "source": [
    "<div class=advice>\n",
    "<b>Note:</b> See <a href='../0_Introduction/2_Appendix.ipynb'>Appendix &#10142;</a> for the derivation of the above relations.\n",
    "</div>"
   ]
  },
  {
   "cell_type": "markdown",
   "metadata": {
    "deletable": true,
    "editable": true
   },
   "source": [
    "We can obtain the conversion relations above by applying the spherical trigonemetric identities in <a href='../2_Mathematical_Groundwork/2_13_spherical_trigonometry.ipynb'>$\\S$ 2.13 &#10142;</a> to the triangle depicted in <a class='pos_fig_dirconversion_dir'></a><!--\\ref{pos:fig:dirconversion}--> (the one formed by the source the field center and the NCP)."
   ]
  },
  {
   "cell_type": "markdown",
   "metadata": {
    "deletable": true,
    "editable": true
   },
   "source": [
    "There is another important interpretation of direction cosine coordinates we should\n",
    "be cognisant of. If we project the direction cosine position vector $\\mathbf{s}$ of a celestial body onto the $lm$-plane it's projected length will be equal to $\\sin \\theta$, where $\\theta$ is the angular distance between your field center $\\mathbf{s}_c$ and $\\mathbf{s}$ measured along the surface of the celestial sphere. If $\\theta$ is small we may use the small angle approximation, i.e. $\\sin \\theta \\approx \\theta$. The projected length of $\\mathbf{s}$ is also equal to $\\sqrt{l^2+m^2}$, implying that $l^2+m^2 \\approx \\theta^2$. We may therefore loosely interpret $\\sqrt{l^2+m^2}$ as the angular distance measured between the source at $\\mathbf{s}$ and the field-center $\\mathbf{s}_c$ measured along the surface of the celestial sphere, i.e. we may measure $l$ and $m$ in $^{\\circ}$. \n",
    "The explenation above is graphically illustrated in <a class='pos_fig_proj_dir'></a> <!--\\ref{pos:fig:proj}-->. "
   ]
  },
  {
   "cell_type": "markdown",
   "metadata": {
    "deletable": true,
    "editable": true
   },
   "source": [
    "<a id='pos:fig:understand_lm'></a> <!--\\label{pos:fig:understand_lm}--><img src='figures/conversion2b.svg' width=40%>"
   ]
  },
  {
   "cell_type": "markdown",
   "metadata": {
    "deletable": true,
    "editable": true
   },
   "source": [
    "*Figure 3.4.3*: Why do we measure $l$ and $m$ in degrees? "
   ]
  },
  {
   "cell_type": "markdown",
   "metadata": {
    "deletable": true,
    "editable": true
   },
   "source": [
    "<p class=conclusion>\n",
    "  <font size=4><b>Three interpretations of direction cosine coordinates</b></font>\n",
    "  <br>\n",
    "  <br>\n",
    "&bull; **Direction cosines**: $l$,$m$ and $n$ are direction cosines<br><br>\n",
    "&bull; **Cartesian coordinates**: $l$,$m$ and $n$ are Cartesian coordinates if we work on the \n",
    "    unit sphere<br><br> \n",
    "&bull; <b>Angular distance</b>: $\\sqrt{l^2+m^2}$ denotes the angular distance $\\theta$, $(l,m,n)$ is from the field center (if $\\theta$ is sufficiently small).\n",
    "</p>"
   ]
  },
  {
   "cell_type": "markdown",
   "metadata": {
    "deletable": true,
    "editable": true
   },
   "source": [
    "### Example"
   ]
  },
  {
   "cell_type": "markdown",
   "metadata": {
    "deletable": true,
    "editable": true
   },
   "source": [
    "Here we have a couple of sources given in RA ($\\alpha$) and DEC ($\\delta$):\n",
    "* Source 1: (5h 32m 0.4s,60$^{\\circ}$17' 57'') - 1Jy\n",
    "* Source 2: (5h 36m 12.8s,61$^{\\circ}$ 12' 6.9'') - 0.5Jy\n",
    "* Source 3: (5h 40m 45.5s,61$^{\\circ}$ 56' 34'') - 0.2Jy\n",
    "\n",
    "The field center is located at $(\\alpha_0,\\delta_0) = $ (5h 30m,60$^{\\circ}$). The first step is to convert right ascension and declination into radians with"
   ]
  },
  {
   "cell_type": "markdown",
   "metadata": {
    "deletable": true,
    "editable": true
   },
   "source": [
    "\\begin{equation}\n",
    "\\alpha_{\\textrm{rad}} = \\frac{\\pi}{12} \\bigg(h + \\frac{m}{60} + \\frac{s}{3600}\\bigg)\\\\\n",
    "\\end{equation}\n",
    "\n",
    "\\begin{equation}\n",
    "\\delta_{\\textrm{rad}} = \\frac{\\pi}{180} \\bigg(d + \\frac{m_{\\textrm{arcmin}}}{60}+\\frac{s_{\\textrm{arcsec}}}{3600}\\bigg)\n",
    "\\end{equation}"
   ]
  },
  {
   "cell_type": "markdown",
   "metadata": {
    "deletable": true,
    "editable": true
   },
   "source": [
    "In the above equations $h,~m,~s,~d,~m_{\\textrm{arcmin}}$ and $s_{\\textrm{arcsec}}$ respectively denote hours, minutes, seconds, degrees, arcminutes and arcseconds. If we apply the above to our three sources we obtain"
   ]
  },
  {
   "cell_type": "code",
   "execution_count": 75,
   "metadata": {
    "collapsed": false,
    "deletable": true,
    "editable": true
   },
   "outputs": [
    {
     "name": "stdout",
     "output_type": "stream",
     "text": [
      "RA (rad) of Sources and Field Center =  [ 1.43989663  1.44865237  1.46700741  1.48683872]\n",
      "DEC (rad) of Sources =  [ 1.04719755  1.05241899  1.06817495  1.08110542]\n"
     ]
    }
   ],
   "source": [
    "RA_rad = (np.pi/12) * np.array([5. + 30./60, 5 + 32./60 + 0.4/3600, 5 + 36./60 + 12.8/3600, 5 + 40./60 + 45.5/3600])\n",
    "DEC_rad = (np.pi/180)*np.array([60., 60. + 17.0/60 + 57./3600, 61. + 12./60 + 6.9/3600, 61 + 56./60 + 34./3600])\n",
    "Flux_sources_labels = np.array([\"\", \"1 Jy\", \"0.5 Jy\", \"0.2 Jy\"])\n",
    "Flux_sources = np.array([1., 0.5, 0.1]) #in Janskys\n",
    "print \"RA (rad) of Sources and Field Center = \", RA_rad\n",
    "print \"DEC (rad) of Sources = \", DEC_rad"
   ]
  },
  {
   "cell_type": "markdown",
   "metadata": {
    "deletable": true,
    "editable": true
   },
   "source": [
    "Recall that we can use <a class='pos_eq_convertlmnradec_dir'></a><!--\\label{pos:eq:convertlmnradec}--> to convert between equatorial and direction cosine coordinates, in terms of the current example this translates into the python code below. Note that before we can do the conversion we first need to calculate $\\Delta \\alpha$."
   ]
  },
  {
   "cell_type": "code",
   "execution_count": 76,
   "metadata": {
    "collapsed": false,
    "deletable": true,
    "editable": true
   },
   "outputs": [
    {
     "name": "stdout",
     "output_type": "stream",
     "text": [
      "l (degrees) =  [ 0.          0.24855826  0.74818685  1.26458942]\n",
      "m (degrees) =  [ 0.          0.30010768  1.21061225  1.96811494]\n"
     ]
    }
   ],
   "source": [
    "RA_delta_rad = RA_rad-RA_rad[0] #calculating delta alpha\n",
    "\n",
    "l = np.cos(DEC_rad) * np.sin(RA_delta_rad)\n",
    "m = (np.sin(DEC_rad) * np.cos(DEC_rad[0]) - np.cos(DEC_rad) * np.sin(DEC_rad[0]) * np.cos(RA_delta_rad))\n",
    "print \"l (degrees) = \", l*(180./np.pi)\n",
    "print \"m (degrees) = \", m*(180./np.pi)"
   ]
  },
  {
   "cell_type": "markdown",
   "metadata": {
    "deletable": true,
    "editable": true
   },
   "source": [
    "Plotting the result."
   ]
  },
  {
   "cell_type": "code",
   "execution_count": 77,
   "metadata": {
    "collapsed": false,
    "deletable": true,
    "editable": true
   },
   "outputs": [
    {
     "name": "stderr",
     "output_type": "stream",
     "text": [
      "/home/trienko/NASSP/fundamentals/lib/python2.7/site-packages/ipykernel/__main__.py:8: MatplotlibDeprecationWarning: pyplot.hold is deprecated.\n",
      "    Future behavior will be consistent with the long-time default:\n",
      "    plot commands add elements without first clearing the\n",
      "    Axes and/or Figure.\n"
     ]
    },
    {
     "data": {
      "image/png": "[encoded data removed]",
      "text/plain": [
       "<matplotlib.figure.Figure at 0x7f334fddbbd0>"
      ]
     },
     "metadata": {},
     "output_type": "display_data"
    }
   ],
   "source": [
    "fig = plt.figure()\n",
    "ax = fig.add_subplot(111)\n",
    "plt.xlim([-4., 4.])\n",
    "plt.ylim([-4., 4.])\n",
    "plt.xlabel(\"$l$ [degrees]\")\n",
    "plt.ylabel(\"$m$ [degrees]\")\n",
    "plt.plot(l[0], m[0], \"bx\")\n",
    "plt.hold(\"on\")\n",
    "plt.plot(l[1:]*(180/np.pi), m[1:]*(180/np.pi), \"ro\")\n",
    "counter = 1\n",
    "for xy in zip(l[1:]*(180/np.pi)+0.25, m[1:]*(180/np.pi)+0.25):                                              \n",
    "    ax.annotate(Flux_sources_labels[counter], xy=xy, textcoords='offset points',horizontalalignment='right',\n",
    "                verticalalignment='bottom')  \n",
    "    counter = counter + 1\n",
    "\n",
    "plt.grid()"
   ]
  },
  {
   "cell_type": "markdown",
   "metadata": {
    "deletable": true,
    "editable": true
   },
   "source": [
    "*Figure 3.4.4*: "
   ]
  },
  {
   "cell_type": "markdown",
   "metadata": {
    "deletable": true,
    "editable": true
   },
   "source": [
    "***\n",
    "\n",
    "Next: [Further Reading](3_x_further_reading_and_references.ipynb)"
   ]
  },
  {
   "cell_type": "markdown",
   "metadata": {
    "deletable": true,
    "editable": true
   },
   "source": [
    "<div class=warn><b>Future Additions:</b></div>\n",
    "\n",
    "* figure: projection plot similar to white book figure 2-9"
   ]
  }
 ],
 "metadata": {
  "kernelspec": {
   "display_name": "Python 2",
   "language": "python",
   "name": "python2"
  },
  "language_info": {
   "codemirror_mode": {
    "name": "ipython",
    "version": 2
   },
   "file_extension": ".py",
   "mimetype": "text/x-python",
   "name": "python",
   "nbconvert_exporter": "python",
   "pygments_lexer": "ipython2",
   "version": "2.7.12"
  }
 },
 "nbformat": 4,
 "nbformat_minor": 0
}
